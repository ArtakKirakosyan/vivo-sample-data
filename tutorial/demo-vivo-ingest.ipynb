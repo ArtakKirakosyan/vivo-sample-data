{
 "metadata": {
  "name": "",
  "signature": "sha256:b98afef181118a9921c47ed1ff643654c8d45e6d3ba4066c9bb2cf6699eab61a"
 },
 "nbformat": 3,
 "nbformat_minor": 0,
 "worksheets": [
  {
   "cells": [
    {p
     "cell_type": "markdown",
     "metadata": {
      "slideshow": {
       "slide_type": "-"
      }
     },
     "source": [
      "#VIVO ingest with Python\n",
      "\n",
      "A common scenario is that a VIVO implementation team will receive an export data from a system of record in CSV or TSV format.  This data will then need to be cleaned and mapped into the VIVO ontology.  This repository contains sample files for faculty, organization, and position data.  We will demonstrate how to map (minimally) this data in to the [VIVO-ISF ontology](https://wiki.duraspace.org/display/VIVO/VIVO-ISF+Ontology) using Python.  \n",
      "\n",
      "###Tools/requirements\n",
      " * [RDFLib](https://rdflib.readthedocs.org/en/latest/)\n",
      "\n",
      "##Faculty\n",
      "\n",
      "For demonstration purposes, lets take the first 5 rows of the CSV file that contains faculty data."
     ]
    },
    {
     "cell_type": "code",
     "collapsed": false,
     "input": [
      "!head -n 5 ../data/csv/people.csv"
     ],
     "language": "python",
     "metadata": {},
     "outputs": [
      {
       "output_type": "stream",
       "stream": "stdout",
       "text": [
        "person_ID,name,first,last,middle,email,phone,fax,title\r",
        "\r\n",
        "3130,\"Burks, Rosella \",Rosella,Burks,,BurksR@univ.edu,963.555.1253,963.777.4065,Professor \r",
        "\r\n",
        "3297,\"Avila, Damien \",Damien,Avila,,AvilaD@univ.edu,963.555.1352,963.777.7914,Professor \r",
        "\r\n",
        "3547,\"Olsen, Robin \",Robin,Olsen,,OlsenR@univ.edu,963.555.1378,963.777.9262,Assistant Professor\r",
        "\r\n",
        "1538,\"Moises, Edgar Estes\",Edgar,Moises,Estes,MoisesE@univ.edu,963.555.2731x3565,963.777.8264,Professor\r",
        "\r\n"
       ]
      }
     ],
     "prompt_number": 3
    },
    {
     "cell_type": "markdown",
     "metadata": {},
     "source": [
      "###Read the CSV file of sample data\n",
      "\n",
      "The read_file function is a reusable block of code that strips empty cells and any line breaks that might appear in the CSV file.  You will probably develop your own similar routine for cleaning CSV data as you become familiar with the types of data problems or inconsistencies that arise from your sources.\n",
      "\n"
     ]
    },
    {
     "cell_type": "code",
     "collapsed": true,
     "input": [
      "import sys\n",
      "sys.path.append('../')\n",
      "from utils import read_file, ns_mgr\n",
      "from pprint import pprint\n",
      "\n",
      "faculty = read_file('../data/csv/people.csv')\n",
      "pprint(faculty[:5])"
     ],
     "language": "python",
     "metadata": {},
     "outputs": [
      {
       "output_type": "stream",
       "stream": "stdout",
       "text": [
        "[{'email': u'BurksR@univ.edu',\n",
        "  'fax': u'963.777.4065',\n",
        "  'first': u'Rosella',\n",
        "  'last': u'Burks',\n",
        "  'middle': None,\n",
        "  'name': u'Burks, Rosella ',\n",
        "  'person_ID': u'3130',\n",
        "  'phone': u'963.555.1253',\n",
        "  'title': u'Professor '},\n",
        " {'email': u'AvilaD@univ.edu',\n",
        "  'fax': u'963.777.7914',\n",
        "  'first': u'Damien',\n",
        "  'last': u'Avila',\n",
        "  'middle': None,\n",
        "  'name': u'Avila, Damien ',\n",
        "  'person_ID': u'3297',\n",
        "  'phone': u'963.555.1352',\n",
        "  'title': u'Professor '},\n",
        " {'email': u'OlsenR@univ.edu',\n",
        "  'fax': u'963.777.9262',\n",
        "  'first': u'Robin',\n",
        "  'last': u'Olsen',\n",
        "  'middle': None,\n",
        "  'name': u'Olsen, Robin ',\n",
        "  'person_ID': u'3547',\n",
        "  'phone': u'963.555.1378',\n",
        "  'title': u'Assistant Professor'},\n",
        " {'email': u'MoisesE@univ.edu',\n",
        "  'fax': u'963.777.8264',\n",
        "  'first': u'Edgar',\n",
        "  'last': u'Moises',\n",
        "  'middle': u'Estes',\n",
        "  'name': u'Moises, Edgar Estes',\n",
        "  'person_ID': u'1538',\n",
        "  'phone': u'963.555.2731x3565',\n",
        "  'title': u'Professor'},\n",
        " {'email': u'BrianH@univ.edu',\n",
        "  'fax': u'963.777.7249',\n",
        "  'first': u'Heath',\n",
        "  'last': u'Brian',\n",
        "  'middle': u'Pruitt',\n",
        "  'name': u'Brian, Heath Pruitt',\n",
        "  'person_ID': u'2941',\n",
        "  'phone': u'963.555.2800',\n",
        "  'title': u'Associate Curator '}]\n"
       ]
      }
     ],
     "prompt_number": 9
    },
    {
     "cell_type": "markdown",
     "metadata": {},
     "source": [
      "###Create RDF\n",
      "\n",
      "Iterate through the CSV data.  Create a URI for each faculty member from the UID and an rdfs:label.  "
     ]
    },
    {
     "cell_type": "code",
     "collapsed": false,
     "input": [
      "from rdflib import Graph, Namespace, URIRef, Literal, RDF, RDFS\n",
      "\n",
      "#Our data namespace\n",
      "D = Namespace('http://vivo.school.edu/individual/')\n",
      "#The VIVO namespace\n",
      "VIVO = Namespace('http://vivoweb.org/ontology/core#')\n",
      "\n",
      "#Create an RDFLib Graph\n",
      "g = Graph()\n",
      "#Namespace bindings\n",
      "g.bind('vivo', VIVO)\n",
      "\n",
      "for fac in faculty[:5]:\n",
      "    id = fac['person_ID']\n",
      "    name = fac['name']\n",
      "    #Make a uri\n",
      "    uri = D['fac{}'.format(id)]\n",
      "    #type\n",
      "    g.add((uri, RDF.type, VIVO.FacultyMember))\n",
      "    #label\n",
      "    g.add((uri, RDFS.label, Literal(name)))\n",
      "#print as turtle\n",
      "print g.serialize(format='turtle')\n"
     ],
     "language": "python",
     "metadata": {},
     "outputs": [
      {
       "output_type": "stream",
       "stream": "stdout",
       "text": [
        "@prefix rdf: <http://www.w3.org/1999/02/22-rdf-syntax-ns#> .\n",
        "@prefix rdfs: <http://www.w3.org/2000/01/rdf-schema#> .\n",
        "@prefix vivo: <http://vivoweb.org/ontology/core#> .\n",
        "@prefix xml: <http://www.w3.org/XML/1998/namespace> .\n",
        "@prefix xsd: <http://www.w3.org/2001/XMLSchema#> .\n",
        "\n",
        "<http://vivo.school.edu/individual/fac1538> a vivo:FacultyMember ;\n",
        "    rdfs:label \"Moises, Edgar Estes\" .\n",
        "\n",
        "<http://vivo.school.edu/individual/fac2941> a vivo:FacultyMember ;\n",
        "    rdfs:label \"Brian, Heath Pruitt\" .\n",
        "\n",
        "<http://vivo.school.edu/individual/fac3130> a vivo:FacultyMember ;\n",
        "    rdfs:label \"Burks, Rosella \" .\n",
        "\n",
        "<http://vivo.school.edu/individual/fac3297> a vivo:FacultyMember ;\n",
        "    rdfs:label \"Avila, Damien \" .\n",
        "\n",
        "<http://vivo.school.edu/individual/fac3547> a vivo:FacultyMember ;\n",
        "    rdfs:label \"Olsen, Robin \" .\n",
        "\n",
        "\n"
       ]
      }
     ],
     "prompt_number": 13
    },
    {
     "cell_type": "markdown",
     "metadata": {},
     "source": [
      "A URI, a type, and a rdfs:label is the minimal amount of data need to create an entity in VIVO.  After loading this into VIVO you will be able to browse the entities using the VIVO interface and can use the interface to make additional assertions.\n",
      "\n",
      "###Add the data to VIVO\n",
      "\n",
      "####via the web interface\n",
      "The VIVO web application allows for uploading prepared RDF files into the triple store.\n",
      "\n",
      "![Add remove](files/tutorial/images/add_remove_rdf.png)",
      "\n"
     ]
    },
    {
     "cell_type": "markdown",
     "metadata": {},
     "source": [
      "####The SPARQL Update API \n",
      "The [VIVO SPARQL Update API](https://wiki.duraspace.org/display/VIVO/The+SPARQL+Update+API) allows you to write data back to VIVO using the W3C [SPARQL 1.1](http://www.w3.org/TR/sparql11-query/).  This was added to VIVO in version 1.6.  \n",
      "\n",
      "Included in this sample code is a utility for writing RDFLib graphs to a VIVO 1.6 instance using the update API."
     ]
    },
    {
     "cell_type": "code",
     "collapsed": false,
     "input": [
      "from utils import VUpdate\n",
      "vstore = VUpdate()\n",
      "vstore.add(g)"
     ],
     "language": "python",
     "metadata": {},
     "outputs": [],
     "prompt_number": 4
    },
    {
     "cell_type": "markdown",
     "metadata": {},
     "source": [
      "##Organizations\n",
      "\n",
      "Ingesting organizational units from a CSV would follow a similar path.  \n",
      "\n",
      "Make a sample file."
     ]
    },
    {
     "cell_type": "code",
     "collapsed": false,
     "input": [
      "organizations = read_file('../data/csv/organizations.csv')\n",
      "pprint(organizations[:5])"
     ],
     "language": "python",
     "metadata": {},
     "outputs": [
      {
       "output_type": "stream",
       "stream": "stdout",
       "text": [
        "[{'org_ID': u'101028',\n",
        "  'org_name': u'Energy Sciences Department',\n",
        "  'org_vivo_uri': u'http://vivoweb.org/ontology/core#Department'},\n",
        " {'org_ID': u'102017',\n",
        "  'org_name': u'Geothermal Technology Department',\n",
        "  'org_vivo_uri': u'http://vivoweb.org/ontology/core#Department'},\n",
        " {'org_ID': u'100000',\n",
        "  'org_name': u'University of VIVO',\n",
        "  'org_vivo_uri': u'http://vivoweb.org/ontology/core#University'},\n",
        " {'org_ID': u'102000',\n",
        "  'org_name': u'College of Research',\n",
        "  'org_vivo_uri': u'http://vivoweb.org/ontology/core#College'},\n",
        " {'org_ID': u'101000',\n",
        "  'org_name': u'College of Science',\n",
        "  'org_vivo_uri': u'http://vivoweb.org/ontology/core#College'}]\n"
       ]
      }
     ],
     "prompt_number": 15
    },
    {
     "cell_type": "markdown",
     "metadata": {},
     "source": [
      "You can see that the organization data is slightly different.  There is a name, an identifier, but also someone has assigned a VIVO class type to each row.  We can use Python to convert that string into a URI.  With actual data, you might have a string type, such as \"Center\" or \"School\" that you would then need to map to a class type from an ontology. "
     ]
    },
    {
     "cell_type": "code",
     "collapsed": false,
     "input": [
      "#Create a new empty graph for the organizations.\n",
      "g = Graph()\n",
      "g.bind('vivo', VIVO)\n",
      "\n",
      "for item in organizations[:5]:\n",
      "    org_uri = D['org{}'.format(item['org_ID'])]\n",
      "    org_type = URIRef(item['org_vivo_uri'])\n",
      "    g.add( (org_uri, RDF.type, org_type) )\n",
      "    g.add( (org_uri, RDFS.label, Literal(item['org_name'])) )\n",
      "\n",
      "print g.serialize(format='turtle')\n",
      "          "
     ],
     "language": "python",
     "metadata": {},
     "outputs": [
      {
       "output_type": "stream",
       "stream": "stdout",
       "text": [
        "@prefix rdf: <http://www.w3.org/1999/02/22-rdf-syntax-ns#> .\n",
        "@prefix rdfs: <http://www.w3.org/2000/01/rdf-schema#> .\n",
        "@prefix vivo: <http://vivoweb.org/ontology/core#> .\n",
        "@prefix xml: <http://www.w3.org/XML/1998/namespace> .\n",
        "@prefix xsd: <http://www.w3.org/2001/XMLSchema#> .\n",
        "\n",
        "<http://vivo.school.edu/individual/org100000> a vivo:University ;\n",
        "    rdfs:label \"University of VIVO\" .\n",
        "\n",
        "<http://vivo.school.edu/individual/org101000> a vivo:College ;\n",
        "    rdfs:label \"College of Science\" .\n",
        "\n",
        "<http://vivo.school.edu/individual/org101028> a vivo:Department ;\n",
        "    rdfs:label \"Energy Sciences Department\" .\n",
        "\n",
        "<http://vivo.school.edu/individual/org102000> a vivo:College ;\n",
        "    rdfs:label \"College of Research\" .\n",
        "\n",
        "<http://vivo.school.edu/individual/org102017> a vivo:Department ;\n",
        "    rdfs:label \"Geothermal Technology Department\" .\n",
        "\n",
        "\n"
       ]
      }
     ],
     "prompt_number": 16
    },
    {
     "cell_type": "markdown",
     "metadata": {},
     "source": [
      "##Positions\n",
      "We have all the tools we need to map the positions CSV to RDF but our process will be slightly different because we want to connect the people to their position and the position to its organization."
     ]
    },
    {
     "cell_type": "code",
     "collapsed": false,
     "input": [
      "positions = read_file('../data/csv/positions.csv')\n",
      "pprint(positions[:5])"
     ],
     "language": "python",
     "metadata": {},
     "outputs": [
      {
       "output_type": "stream",
       "stream": "stdout",
       "text": [
        "[{'department_ID': u'101028',\n",
        "  'department_name': u'Energy Sciences Department',\n",
        "  'job_title': u'Assistant Professor I',\n",
        "  'person_ID': u'2254',\n",
        "  'position_type': u'Faculty',\n",
        "  'start_date': u'2003'},\n",
        " {'department_ID': u'101028',\n",
        "  'department_name': u'Energy Sciences Department',\n",
        "  'job_title': u'Assistant Professor II',\n",
        "  'person_ID': u'2217',\n",
        "  'position_type': u'Faculty',\n",
        "  'start_date': u'2008'},\n",
        " {'department_ID': u'101028',\n",
        "  'department_name': u'Energy Sciences Department',\n",
        "  'job_title': u'Assistant Professor III',\n",
        "  'person_ID': u'1968',\n",
        "  'position_type': u'Faculty',\n",
        "  'start_date': u'2002'},\n",
        " {'department_ID': u'101028',\n",
        "  'department_name': u'Energy Sciences Department',\n",
        "  'job_title': u'Assistant Professor IV',\n",
        "  'person_ID': u'2303',\n",
        "  'position_type': u'Faculty',\n",
        "  'start_date': u'2003'},\n",
        " {'department_ID': u'101028',\n",
        "  'department_name': u'Energy Sciences Department',\n",
        "  'job_title': u'Assistant Professor V',\n",
        "  'person_ID': u'3903',\n",
        "  'position_type': u'Faculty',\n",
        "  'start_date': u'2005'}]\n"
       ]
      }
     ],
     "prompt_number": 17
    },
    {
     "cell_type": "markdown",
     "metadata": {},
     "source": [
      "\n",
      "![ISF positions relations](https://wiki.duraspace.org/download/attachments/51052815/PeoplePositionsOrgs.2014-06-25.png)\n",
      "\n",
      "See other VIVO-ISF relationship diagrams: https://wiki.duraspace.org/display/VIVO/VIVO-ISF+1.6+Relationship+Diagrams\n",
      "\n"
     ]
    },
    {
     "cell_type": "code",
     "collapsed": false,
     "input": [
      "#initialize an empty Graph\n",
      "g = Graph()\n",
      "g.bind('vivo', VIVO)\n",
      "\n",
      "from rdflib import BNode\n",
      "\n",
      "for pos in positions[:5]:\n",
      "    position_uri = BNode()\n",
      "    person_id = pos['person_ID']\n",
      "    faculty_uri = D['fac{}'.format(person_id)]\n",
      "    org_uri = D['org{}'.format(pos['department_ID'])]\n",
      "    g.add( (position_uri, RDF.type, VIVO.FacultyPosition) )\n",
      "    g.add( (position_uri, RDFS.label, Literal(pos['job_title'])) )\n",
      "    #Relate the position to the faculty member and organization.\n",
      "    g.add( (position_uri, VIVO.relates, faculty_uri) )\n",
      "    g.add( (position_uri, VIVO.relates, org_uri) )\n",
      "\n",
      "print g.serialize(format='turtle')"
     ],
     "language": "python",
     "metadata": {},
     "outputs": [
      {
       "output_type": "stream",
       "stream": "stdout",
       "text": [
        "@prefix rdf: <http://www.w3.org/1999/02/22-rdf-syntax-ns#> .\n",
        "@prefix rdfs: <http://www.w3.org/2000/01/rdf-schema#> .\n",
        "@prefix vivo: <http://vivoweb.org/ontology/core#> .\n",
        "@prefix xml: <http://www.w3.org/XML/1998/namespace> .\n",
        "@prefix xsd: <http://www.w3.org/2001/XMLSchema#> .\n",
        "\n",
        "[] a vivo:FacultyPosition ;\n",
        "    rdfs:label \"Assistant Professor IV\" ;\n",
        "    vivo:relates <http://vivo.school.edu/individual/fac2303>,\n",
        "        <http://vivo.school.edu/individual/org101028> .\n",
        "\n",
        "[] a vivo:FacultyPosition ;\n",
        "    rdfs:label \"Assistant Professor II\" ;\n",
        "    vivo:relates <http://vivo.school.edu/individual/fac2217>,\n",
        "        <http://vivo.school.edu/individual/org101028> .\n",
        "\n",
        "[] a vivo:FacultyPosition ;\n",
        "    rdfs:label \"Assistant Professor III\" ;\n",
        "    vivo:relates <http://vivo.school.edu/individual/fac1968>,\n",
        "        <http://vivo.school.edu/individual/org101028> .\n",
        "\n",
        "[] a vivo:FacultyPosition ;\n",
        "    rdfs:label \"Assistant Professor V\" ;\n",
        "    vivo:relates <http://vivo.school.edu/individual/fac3903>,\n",
        "        <http://vivo.school.edu/individual/org101028> .\n",
        "\n",
        "[] a vivo:FacultyPosition ;\n",
        "    rdfs:label \"Assistant Professor I\" ;\n",
        "    vivo:relates <http://vivo.school.edu/individual/fac2254>,\n",
        "        <http://vivo.school.edu/individual/org101028> .\n",
        "\n",
        "\n"
       ]
      }
     ],
     "prompt_number": 19
    },
    {
     "cell_type": "markdown",
     "metadata": {},
     "source": [
      "## Creating URIs\n",
      "As you can see from both the raw position CSV and the output we don't have a unique identifier for the positions.  This is challenge you will often face when working with VIVO data.  \n",
      "\n",
      "In the example code block above, we created [Blank Nodes](http://en.wikipedia.org/wiki/Blank_node) since these are \"anonymous resources\" but VIVO, and other triple stores, don't like Blank Nodes.  \n",
      "\n",
      "One technique would be to create [URL Slugs](http://patterns.dataincubator.org/book/url-slug.html) based on uniquely identifying information.  This could lead to collisions - two resources being assigned the same URI - but that is not always a bad thing.  You can have separate routines that identify problematic data and flag it for human review.  For example, DbPedia uses this technique.  The URI for Harvard Universty is `http://dbpedia.org/resource/Harvard_University`.  This can work well for organization names and even journal titles.  But in this example, a URL Slug would become too verbose.\n",
      "\n",
      "Using standard Python libraries, we will mint a unique identifier for the position by creating an MD5 hash of the person id, organization id, and job title.  This isn't perfect (e.g. if the position title changes, a new URI and therefore a new position will be created) but is a reasonable starting point. \n",
      "\n",
      "Here is the code above but the BNodes have been removed."
     ]
    },
    {
     "cell_type": "code",
     "collapsed": false,
     "input": [
      "#initialize an empty Graph\n",
      "from utils import hash_uri\n",
      "\n",
      "g = Graph()\n",
      "g.bind('vivo', VIVO)\n",
      "\n",
      "from rdflib import BNode\n",
      "\n",
      "for pos in positions[:5]:\n",
      "    fac_id = pos['person_ID']\n",
      "    org_id = pos['department_ID']\n",
      "    title = pos['job_title']\n",
      "    \n",
      "    uri_parts = \"{}{}{}\".format(fac_id, org_id, title)\n",
      "    position_uri = D[hash_uri(uri_parts, prefix='pos')]\n",
      "    \n",
      "    faculty_uri = D['fac{}'.format(fac_id)]\n",
      "    org_uri = D['org{}'.format(org_id)]\n",
      "    \n",
      "    g.add( (position_uri, RDF.type, VIVO.FacultyPosition) )\n",
      "    g.add( (position_uri, RDFS.label, Literal(title)) )\n",
      "    #Relate the position to the faculty member and organization.\n",
      "    g.add( (position_uri, VIVO.relates, faculty_uri) )\n",
      "    g.add( (position_uri, VIVO.relates, org_uri) )\n",
      "\n",
      "print g.serialize(format='turtle')"
     ],
     "language": "python",
     "metadata": {},
     "outputs": [
      {
       "output_type": "stream",
       "stream": "stdout",
       "text": [
        "@prefix rdf: <http://www.w3.org/1999/02/22-rdf-syntax-ns#> .\n",
        "@prefix rdfs: <http://www.w3.org/2000/01/rdf-schema#> .\n",
        "@prefix vivo: <http://vivoweb.org/ontology/core#> .\n",
        "@prefix xml: <http://www.w3.org/XML/1998/namespace> .\n",
        "@prefix xsd: <http://www.w3.org/2001/XMLSchema#> .\n",
        "\n",
        "<http://vivo.school.edu/individual/pos127e0386806b7a3185d53832c4cda4f5> a vivo:FacultyPosition ;\n",
        "    rdfs:label \"Assistant Professor II\" ;\n",
        "    vivo:relates <http://vivo.school.edu/individual/fac2217>,\n",
        "        <http://vivo.school.edu/individual/org101028> .\n",
        "\n",
        "<http://vivo.school.edu/individual/pos2557ef24476def096e2c5b14604589b6> a vivo:FacultyPosition ;\n",
        "    rdfs:label \"Assistant Professor V\" ;\n",
        "    vivo:relates <http://vivo.school.edu/individual/fac3903>,\n",
        "        <http://vivo.school.edu/individual/org101028> .\n",
        "\n",
        "<http://vivo.school.edu/individual/pos26c554a16cdfae7a5afe254e29170e19> a vivo:FacultyPosition ;\n",
        "    rdfs:label \"Assistant Professor I\" ;\n",
        "    vivo:relates <http://vivo.school.edu/individual/fac2254>,\n",
        "        <http://vivo.school.edu/individual/org101028> .\n",
        "\n",
        "<http://vivo.school.edu/individual/pos65b2572e4d861874137b4402b3b7dffe> a vivo:FacultyPosition ;\n",
        "    rdfs:label \"Assistant Professor IV\" ;\n",
        "    vivo:relates <http://vivo.school.edu/individual/fac2303>,\n",
        "        <http://vivo.school.edu/individual/org101028> .\n",
        "\n",
        "<http://vivo.school.edu/individual/pos82280eda0edc5a92dc5f5abb6eb8c562> a vivo:FacultyPosition ;\n",
        "    rdfs:label \"Assistant Professor III\" ;\n",
        "    vivo:relates <http://vivo.school.edu/individual/fac1968>,\n",
        "        <http://vivo.school.edu/individual/org101028> .\n",
        "\n",
        "\n"
       ]
      }
     ],
     "prompt_number": 22
    }
   ],
   "metadata": {}
  }
 ]
}
