{
 "metadata": {
  "name": ""
 },
 "nbformat": 3,
 "nbformat_minor": 0,
 "worksheets": [
  {
   "cells": [
    {
     "cell_type": "markdown",
     "metadata": {},
     "source": [
      "#Publications ingest\n",
      "\n",
      "One of the most common, or popular, types of data to add to a VIVO instance are publications.  \n",
      "\n",
      "Sample ingest\n",
      "[Joana J. Bryson](http://www.cs.bath.ac.uk/~jjb/), University of Bath Computer Science\n",
      "\n",
      "Paper - doi:10.1109/mc.2002.1046974 \n",
      "\n",
      "`Joanna J. Bryson, David Martin, Sheila I. McIlraith and Lynn Andrea Stein \"Toward Behavioral Intelligence in the Semantic Web\" in IEEE Computer 35(11): 48\u201354, 2002.`\n",
      "\n",
      "##Data source\n",
      "\n",
      "It's important to harvest data for VIVO from authoratative and consistent sources.  [CrossRef](http://www.crossref.org/) is one.\n",
      "\n",
      "It's important to ask \"What format is available?\" when consulting a data source.  CrossRef, unlike other sources, provides data in many formats, including RDF.  Since the RDF published by CrossRef is modeled differently than what the VIVO ontology and what the VIVO web application is expecting, we will have to transform it to meet our needs.  The simplest way to get started with CrossRef data might be to use their [metadata search](http://search.crossref.org/) API to fetch JSON data that includes the title, doi, and a text based full citation for a publication.  We can then iteratively add more data to VIVO to meet our campus needs.\n",
      " \n"
     ]
    },
    {
     "cell_type": "code",
     "collapsed": false,
     "input": [
      "from utils import crossref_metadata_search\n",
      "from pprint import pprint\n",
      "\n",
      "doi = '10.1109/mc.2002.1046974'\n",
      "\n",
      "meta = crossref_metadata_search(doi)\n",
      "pprint(meta)\n"
     ],
     "language": "python",
     "metadata": {},
     "outputs": [
      {
       "output_type": "stream",
       "stream": "stdout",
       "text": [
        "[{u'coins': u'ctx_ver=Z39.88-2004&amp;rft_id=info%3Adoi%2Fhttp%3A%2F%2Fdx.doi.org%2F10.1109%2Fmc.2002.1046974&amp;rfr_id=info%3Asid%2Fcrossref.org%3Asearch&amp;rft.atitle=Toward+behavioral+intelligence+in+the+Semantic+Web&amp;rft.jtitle=Computer&amp;rft.date=2002&amp;rft.volume=35&amp;rft.issue=11&amp;rft.spage=48&amp;rft.epage=54&amp;rft.aufirst=J.J.&amp;rft.aulast=Bryson&amp;rft_val_fmt=info%3Aofi%2Ffmt%3Akev%3Amtx%3Ajournal&amp;rft.genre=article&amp;rft.au=J.J.+Bryson&amp;rft.au=+D.L.+Martin&amp;rft.au=+S.A.+McIlraith&amp;rft.au=+L.A.+Stein',\n",
        "  u'doi': u'http://dx.doi.org/10.1109/mc.2002.1046974',\n",
        "  u'fullCitation': u\"J.J. Bryson, D.L. Martin, S.A. McIlraith, L.A. Stein, 2002, 'Toward behavioral intelligence in the Semantic Web', <i>Computer</i>, vol. 35, no. 11, pp. 48-54\",\n",
        "  u'normalizedScore': 100,\n",
        "  u'score': 18.541573,\n",
        "  u'title': u'Toward behavioral intelligence in the Semantic Web',\n",
        "  u'year': u'2002'}]\n"
       ]
      }
     ],
     "prompt_number": 104
    },
    {
     "cell_type": "code",
     "collapsed": false,
     "input": [
      "pub = meta[0]\n",
      "pprint(pub)"
     ],
     "language": "python",
     "metadata": {},
     "outputs": [
      {
       "output_type": "stream",
       "stream": "stdout",
       "text": [
        "{u'coins': u'ctx_ver=Z39.88-2004&amp;rft_id=info%3Adoi%2Fhttp%3A%2F%2Fdx.doi.org%2F10.1109%2Fmc.2002.1046974&amp;rfr_id=info%3Asid%2Fcrossref.org%3Asearch&amp;rft.atitle=Toward+behavioral+intelligence+in+the+Semantic+Web&amp;rft.jtitle=Computer&amp;rft.date=2002&amp;rft.volume=35&amp;rft.issue=11&amp;rft.spage=48&amp;rft.epage=54&amp;rft.aufirst=J.J.&amp;rft.aulast=Bryson&amp;rft_val_fmt=info%3Aofi%2Ffmt%3Akev%3Amtx%3Ajournal&amp;rft.genre=article&amp;rft.au=J.J.+Bryson&amp;rft.au=+D.L.+Martin&amp;rft.au=+S.A.+McIlraith&amp;rft.au=+L.A.+Stein',\n",
        " u'doi': u'http://dx.doi.org/10.1109/mc.2002.1046974',\n",
        " u'fullCitation': u\"J.J. Bryson, D.L. Martin, S.A. McIlraith, L.A. Stein, 2002, 'Toward behavioral intelligence in the Semantic Web', <i>Computer</i>, vol. 35, no. 11, pp. 48-54\",\n",
        " u'normalizedScore': 100,\n",
        " u'score': 18.541573,\n",
        " u'title': u'Toward behavioral intelligence in the Semantic Web',\n",
        " u'year': u'2002'}\n"
       ]
      }
     ],
     "prompt_number": 105
    },
    {
     "cell_type": "code",
     "collapsed": false,
     "input": [
      "print pub['title']"
     ],
     "language": "python",
     "metadata": {},
     "outputs": [
      {
       "output_type": "stream",
       "stream": "stdout",
       "text": [
        "Toward behavioral intelligence in the Semantic Web\n"
       ]
      }
     ],
     "prompt_number": 106
    },
    {
     "cell_type": "code",
     "collapsed": false,
     "input": [
      "print pub['fullCitation']"
     ],
     "language": "python",
     "metadata": {},
     "outputs": [
      {
       "output_type": "stream",
       "stream": "stdout",
       "text": [
        "J.J. Bryson, D.L. Martin, S.A. McIlraith, L.A. Stein, 2002, 'Toward behavioral intelligence in the Semantic Web', <i>Computer</i>, vol. 35, no. 11, pp. 48-54\n"
       ]
      }
     ],
     "prompt_number": 107
    },
    {
     "cell_type": "code",
     "collapsed": false,
     "input": [
      "print pub['doi']"
     ],
     "language": "python",
     "metadata": {},
     "outputs": [
      {
       "output_type": "stream",
       "stream": "stdout",
       "text": [
        "http://dx.doi.org/10.1109/mc.2002.1046974\n"
       ]
      }
     ],
     "prompt_number": 108
    },
    {
     "cell_type": "markdown",
     "metadata": {},
     "source": [
      "##Converting to VIVO RDF\n",
      "Now that we have some details about the publication in a structured format, let's convert it to RDF that can be added to VIVO.\n",
      "\n",
      "First lets create a FacultyMember instance for Prof. Bryson.\n"
     ]
    },
    {
     "cell_type": "code",
     "collapsed": false,
     "input": [
      "from rdflib import Graph, Namespace, URIRef, Literal, RDF, RDFS\n",
      "from utils import ns_mgr, VIVO\n",
      "\n",
      "D = Namespace('http://vivo.school.edu/individual/')\n",
      "\n",
      "BIBO = Namespace('http://purl.org/ontology/bibo/')\n",
      "\n",
      "g = Graph()\n",
      "g.namespace_manager = ns_mgr\n",
      "\n",
      "faculty_uri = D['jjbryson']\n",
      "\n",
      "g.add( (faculty_uri, RDF.type, VIVO.FacultyMember) )\n",
      "g.add( (faculty_uri, RDFS.label, Literal('Bryson, Joana J.')) )\n",
      "\n",
      "print g.serialize(format='turtle')\n"
     ],
     "language": "python",
     "metadata": {},
     "outputs": [
      {
       "output_type": "stream",
       "stream": "stdout",
       "text": [
        "@prefix bibo: <http://purl.org/ontology/bibo/> .\n",
        "@prefix obo: <http://purl.obolibrary.org/obo/> .\n",
        "@prefix rdf: <http://www.w3.org/1999/02/22-rdf-syntax-ns#> .\n",
        "@prefix rdfs: <http://www.w3.org/2000/01/rdf-schema#> .\n",
        "@prefix vcard: <http://www.w3.org/2006/vcard/ns#> .\n",
        "@prefix vivo: <http://vivoweb.org/ontology/core#> .\n",
        "@prefix xml: <http://www.w3.org/XML/1998/namespace> .\n",
        "@prefix xsd: <http://www.w3.org/2001/XMLSchema#> .\n",
        "\n",
        "<http://vivo.school.edu/individual/jjbryson> a vivo:FacultyMember ;\n",
        "    rdfs:label \"Bryson, Joana J.\" .\n",
        "\n",
        "\n"
       ]
      }
     ],
     "prompt_number": 117
    },
    {
     "cell_type": "markdown",
     "metadata": {},
     "source": [
      "###Basic publication metadata\n",
      "\n",
      "We will need to take the metadata returned by CrossRef and convert it to the VIVO ontology.\n"
     ]
    },
    {
     "cell_type": "code",
     "collapsed": false,
     "input": [
      "\n",
      "publication_uri = D['pub1']\n",
      "\n",
      "g.add( (publication_uri, RDF.type, BIBO.AcademicArticle) )\n",
      "g.add( (publication_uri, RDFS.label, Literal(pub['title'])) )\n",
      "g.add( (publication_uri, BIBO.doi, Literal(doi)) )\n",
      "\n",
      "print g.serialize(format='turtle')\n"
     ],
     "language": "python",
     "metadata": {},
     "outputs": [
      {
       "output_type": "stream",
       "stream": "stdout",
       "text": [
        "@prefix bibo: <http://purl.org/ontology/bibo/> .\n",
        "@prefix obo: <http://purl.obolibrary.org/obo/> .\n",
        "@prefix rdf: <http://www.w3.org/1999/02/22-rdf-syntax-ns#> .\n",
        "@prefix rdfs: <http://www.w3.org/2000/01/rdf-schema#> .\n",
        "@prefix vcard: <http://www.w3.org/2006/vcard/ns#> .\n",
        "@prefix vivo: <http://vivoweb.org/ontology/core#> .\n",
        "@prefix xml: <http://www.w3.org/XML/1998/namespace> .\n",
        "@prefix xsd: <http://www.w3.org/2001/XMLSchema#> .\n",
        "\n",
        "<http://vivo.school.edu/individual/pub1> a bibo:AcademicArticle ;\n",
        "    rdfs:label \"Toward behavioral intelligence in the Semantic Web\" ;\n",
        "    bibo:doi \"10.1109/mc.2002.1046974\" .\n",
        "\n",
        "\n"
       ]
      }
     ],
     "prompt_number": 115
    },
    {
     "cell_type": "markdown",
     "metadata": {},
     "source": [
      "With the data above, we have the minimal viable publication data for VIVO.  We have assertd that it is an Academic Article, has the label \"Toward behavioral intelligence in the Semantic Web\" and that its DOI is \"10.1109/mc.2002.1046974\".  But we have to do more to create the linkages between the faculty member and the publication. \n",
      "\n",
      "###Authorship\n",
      "\n",
      "![VIVO ISF Authorship](https://wiki.duraspace.org/download/attachments/51052801/Authorship.2014-03-17.png?version=1&modificationDate=1395102387094&api=v2)\n"
     ]
    },
    {
     "cell_type": "markdown",
     "metadata": {},
     "source": [
      "We need to create the RDF for our faculty member, Joana J. Bryson.  For demonstration purposes, we will just create a URI based on her given name, middle initial and last name."
     ]
    },
    {
     "cell_type": "code",
     "collapsed": false,
     "input": [
      "authorship_uri = D['aship1']\n",
      "\n",
      "g.add( (authorship_uri, RDF.type, VIVO.Authorship) )\n",
      "g.add( (authorship_uri, VIVO.relates, publication_uri) )\n",
      "g.add( (authorship_uri, VIVO.relates, faculty_uri) )\n",
      "\n",
      "print g.serialize(format='turtle')\n",
      "\n"
     ],
     "language": "python",
     "metadata": {},
     "outputs": [
      {
       "output_type": "stream",
       "stream": "stdout",
       "text": [
        "@prefix bibo: <http://purl.org/ontology/bibo/> .\n",
        "@prefix obo: <http://purl.obolibrary.org/obo/> .\n",
        "@prefix rdf: <http://www.w3.org/1999/02/22-rdf-syntax-ns#> .\n",
        "@prefix rdfs: <http://www.w3.org/2000/01/rdf-schema#> .\n",
        "@prefix vcard: <http://www.w3.org/2006/vcard/ns#> .\n",
        "@prefix vivo: <http://vivoweb.org/ontology/core#> .\n",
        "@prefix xml: <http://www.w3.org/XML/1998/namespace> .\n",
        "@prefix xsd: <http://www.w3.org/2001/XMLSchema#> .\n",
        "\n",
        "<http://vivo.school.edu/individual/aship1> a vivo:Authorship ;\n",
        "    vivo:relates <http://vivo.school.edu/individual/jjbryson>,\n",
        "        <http://vivo.school.edu/individual/pub1> .\n",
        "\n",
        "<http://vivo.school.edu/individual/jjbryson> a vivo:FacultyMember ;\n",
        "    rdfs:label \"Bryson, Joana J.\" .\n",
        "\n",
        "<http://vivo.school.edu/individual/pub1> a bibo:AcademicArticle ;\n",
        "    rdfs:label \"Toward behavioral intelligence in the Semantic Web\" ;\n",
        "    bibo:doi \"10.1109/mc.2002.1046974\" .\n",
        "\n",
        "\n"
       ]
      }
     ],
     "prompt_number": 111
    },
    {
     "cell_type": "markdown",
     "metadata": {},
     "source": [
      "Now we have prepared all of the RDF for a minimal publication load from CrossRef.  "
     ]
    }
   ],
   "metadata": {}
  }
 ]
}